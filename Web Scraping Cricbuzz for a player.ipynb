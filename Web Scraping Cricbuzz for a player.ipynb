{
 "cells": [
  {
   "cell_type": "code",
   "execution_count": 60,
   "id": "ae25400e",
   "metadata": {},
   "outputs": [],
   "source": [
    "import requests\n",
    "from bs4 import BeautifulSoup\n",
    "import re"
   ]
  },
  {
   "cell_type": "code",
   "execution_count": 295,
   "id": "5c05aeb7",
   "metadata": {},
   "outputs": [],
   "source": [
    "req = requests.get(\"https://www.cricbuzz.com/profiles/6326/kane-williamson\")"
   ]
  },
  {
   "cell_type": "code",
   "execution_count": 296,
   "id": "6b504d70",
   "metadata": {},
   "outputs": [],
   "source": [
    "soup= BeautifulSoup(req.content,\"html.parser\")"
   ]
  },
  {
   "cell_type": "code",
   "execution_count": 297,
   "id": "48199a28",
   "metadata": {},
   "outputs": [],
   "source": [
    "tags=soup.find_all('div',class_= \"cb-col cb-col-60 cb-lst-itm-sm\")\n",
    "name=str(soup.find_all('h1',class_=\"cb-font-40\")[0])"
   ]
  },
  {
   "cell_type": "code",
   "execution_count": 298,
   "id": "b097c420",
   "metadata": {},
   "outputs": [],
   "source": [
    "age=str(tags[0])\n",
    "birthPlace=str(tags[1])\n",
    "role=str(tags[2])\n",
    "batStyle=str(tags[3])\n",
    "bowlStyle=str(tags[4])\n",
    "teams=str(tags[-1])"
   ]
  },
  {
   "cell_type": "code",
   "execution_count": 299,
   "id": "a6d51024",
   "metadata": {},
   "outputs": [],
   "source": [
    "result = re.search('>(.*)<', name)\n",
    "playerName=result.group(1)"
   ]
  },
  {
   "cell_type": "code",
   "execution_count": 300,
   "id": "4a9c3138",
   "metadata": {},
   "outputs": [],
   "source": [
    "playerAge=int(age[age.find(\"years\")-3:age.find(\"years\")-1])"
   ]
  },
  {
   "cell_type": "code",
   "execution_count": 301,
   "id": "e226ddef",
   "metadata": {},
   "outputs": [
    {
     "data": {
      "text/plain": [
       "'<div class=\"cb-col cb-col-60 cb-lst-itm-sm\"> Tauranga </div>'"
      ]
     },
     "execution_count": 301,
     "metadata": {},
     "output_type": "execute_result"
    }
   ],
   "source": [
    "birthPlace"
   ]
  },
  {
   "cell_type": "code",
   "execution_count": 302,
   "id": "811b6492",
   "metadata": {},
   "outputs": [],
   "source": [
    "result = re.search('>(.*)<', birthPlace)\n",
    "playerBirthPlace=result.group(1)[1:-2]"
   ]
  },
  {
   "cell_type": "code",
   "execution_count": 303,
   "id": "8d96b14d",
   "metadata": {},
   "outputs": [
    {
     "data": {
      "text/plain": [
       "'Taurang'"
      ]
     },
     "execution_count": 303,
     "metadata": {},
     "output_type": "execute_result"
    }
   ],
   "source": [
    "playerBirthPlace"
   ]
  },
  {
   "cell_type": "code",
   "execution_count": 304,
   "id": "add58a4a",
   "metadata": {},
   "outputs": [
    {
     "data": {
      "text/plain": [
       "'<div class=\"cb-col cb-col-60 cb-lst-itm-sm\"> Batsman </div>'"
      ]
     },
     "execution_count": 304,
     "metadata": {},
     "output_type": "execute_result"
    }
   ],
   "source": [
    "role"
   ]
  },
  {
   "cell_type": "code",
   "execution_count": 305,
   "id": "2a90d683",
   "metadata": {},
   "outputs": [],
   "source": [
    "result = re.search('>(.*)<', role)\n",
    "playerRole=result.group(1)[1:-1]"
   ]
  },
  {
   "cell_type": "code",
   "execution_count": 306,
   "id": "fad0ba25",
   "metadata": {},
   "outputs": [
    {
     "data": {
      "text/plain": [
       "'Batsman'"
      ]
     },
     "execution_count": 306,
     "metadata": {},
     "output_type": "execute_result"
    }
   ],
   "source": [
    "playerRole"
   ]
  },
  {
   "cell_type": "code",
   "execution_count": 307,
   "id": "efa695f4",
   "metadata": {},
   "outputs": [
    {
     "data": {
      "text/plain": [
       "'<div class=\"cb-col cb-col-60 cb-lst-itm-sm\"> Right Handed Bat </div>'"
      ]
     },
     "execution_count": 307,
     "metadata": {},
     "output_type": "execute_result"
    }
   ],
   "source": [
    "batStyle"
   ]
  },
  {
   "cell_type": "code",
   "execution_count": 308,
   "id": "5adcbce3",
   "metadata": {},
   "outputs": [],
   "source": [
    "result = re.search('>(.*)<', batStyle)\n",
    "playerBatStyle=result.group(1)[1:-1]"
   ]
  },
  {
   "cell_type": "code",
   "execution_count": 309,
   "id": "d3c0d6d5",
   "metadata": {},
   "outputs": [
    {
     "data": {
      "text/plain": [
       "'Right Handed Bat'"
      ]
     },
     "execution_count": 309,
     "metadata": {},
     "output_type": "execute_result"
    }
   ],
   "source": [
    "playerBatStyle"
   ]
  },
  {
   "cell_type": "code",
   "execution_count": 310,
   "id": "e5be89a4",
   "metadata": {},
   "outputs": [
    {
     "data": {
      "text/plain": [
       "'<div class=\"cb-col cb-col-60 cb-lst-itm-sm\"> Right-arm offbreak </div>'"
      ]
     },
     "execution_count": 310,
     "metadata": {},
     "output_type": "execute_result"
    }
   ],
   "source": [
    "bowlStyle"
   ]
  },
  {
   "cell_type": "code",
   "execution_count": 311,
   "id": "8242bbde",
   "metadata": {},
   "outputs": [],
   "source": [
    "result = re.search('>(.*)<', bowlStyle)\n",
    "playerBowlStyle=result.group(1)[1:-1]"
   ]
  },
  {
   "cell_type": "code",
   "execution_count": 312,
   "id": "f6ed9b8f",
   "metadata": {},
   "outputs": [
    {
     "data": {
      "text/plain": [
       "'Right-arm offbreak'"
      ]
     },
     "execution_count": 312,
     "metadata": {},
     "output_type": "execute_result"
    }
   ],
   "source": [
    "playerBowlStyle"
   ]
  },
  {
   "cell_type": "code",
   "execution_count": 313,
   "id": "273356e4",
   "metadata": {},
   "outputs": [
    {
     "data": {
      "text/plain": [
       "'<div class=\"cb-col cb-col-60 cb-lst-itm-sm\"> New Zealand, Gloucestershire, Yorkshire, Northern Knights, Sunrisers Hyderabad, New Zealand A, Barbados Royals, Edmonton Royals, Birmingham Phoenix, Team Williamson </div>'"
      ]
     },
     "execution_count": 313,
     "metadata": {},
     "output_type": "execute_result"
    }
   ],
   "source": [
    "teams"
   ]
  },
  {
   "cell_type": "code",
   "execution_count": 314,
   "id": "02d4f0b7",
   "metadata": {},
   "outputs": [],
   "source": [
    "result = re.search('>(.*)<', teams)\n",
    "playerTeams=result.group(1)[1:-1]"
   ]
  },
  {
   "cell_type": "code",
   "execution_count": 315,
   "id": "0182fa44",
   "metadata": {},
   "outputs": [
    {
     "data": {
      "text/plain": [
       "'New Zealand, Gloucestershire, Yorkshire, Northern Knights, Sunrisers Hyderabad, New Zealand A, Barbados Royals, Edmonton Royals, Birmingham Phoenix, Team Williamson'"
      ]
     },
     "execution_count": 315,
     "metadata": {},
     "output_type": "execute_result"
    }
   ],
   "source": [
    "playerTeams"
   ]
  },
  {
   "cell_type": "code",
   "execution_count": 316,
   "id": "ea6a909b",
   "metadata": {},
   "outputs": [
    {
     "name": "stdout",
     "output_type": "stream",
     "text": [
      "Kane Williamson\n",
      "31\n",
      "Taurang\n",
      "Batsman\n",
      "Right Handed Bat\n",
      "Right-arm offbreak\n",
      "New Zealand, Gloucestershire, Yorkshire, Northern Knights, Sunrisers Hyderabad, New Zealand A, Barbados Royals, Edmonton Royals, Birmingham Phoenix, Team Williamson\n"
     ]
    }
   ],
   "source": [
    "print(playerName)\n",
    "print(playerAge)\n",
    "print(playerBirthPlace)\n",
    "print(playerRole)\n",
    "print(playerBatStyle)\n",
    "print(playerBowlStyle)\n",
    "print(playerTeams)"
   ]
  },
  {
   "cell_type": "code",
   "execution_count": 317,
   "id": "65777095",
   "metadata": {},
   "outputs": [],
   "source": [
    "numtags=soup.find_all('td',class_= \"text-right\")"
   ]
  },
  {
   "cell_type": "code",
   "execution_count": 318,
   "id": "54dae5b6",
   "metadata": {},
   "outputs": [
    {
     "data": {
      "text/plain": [
       "[<td class=\"cb-plyr-tbody text-right\">85</td>,\n",
       " <td class=\"text-right\">148</td>,\n",
       " <td class=\"text-right\">14</td>,\n",
       " <td class=\"text-right\">7230</td>,\n",
       " <td class=\"text-right\">251</td>,\n",
       " <td class=\"text-right\">53.96</td>,\n",
       " <td class=\"text-right\">13967</td>,\n",
       " <td class=\"text-right\">51.76</td>,\n",
       " <td class=\"text-right\">24</td>,\n",
       " <td class=\"text-right\">4</td>,\n",
       " <td class=\"text-right\">33</td>,\n",
       " <td class=\"text-right\">798</td>,\n",
       " <td class=\"text-right\">17</td>,\n",
       " <td class=\"cb-plyr-tbody text-right\">151</td>,\n",
       " <td class=\"text-right\">144</td>,\n",
       " <td class=\"text-right\">14</td>,\n",
       " <td class=\"text-right\">6174</td>,\n",
       " <td class=\"text-right\">148</td>,\n",
       " <td class=\"text-right\">47.49</td>,\n",
       " <td class=\"text-right\">7551</td>,\n",
       " <td class=\"text-right\">81.76</td>,\n",
       " <td class=\"text-right\">13</td>,\n",
       " <td class=\"text-right\">0</td>,\n",
       " <td class=\"text-right\">39</td>,\n",
       " <td class=\"text-right\">564</td>,\n",
       " <td class=\"text-right\">49</td>,\n",
       " <td class=\"cb-plyr-tbody text-right\">67</td>,\n",
       " <td class=\"text-right\">65</td>,\n",
       " <td class=\"text-right\">8</td>,\n",
       " <td class=\"text-right\">1805</td>,\n",
       " <td class=\"text-right\">95</td>,\n",
       " <td class=\"text-right\">31.67</td>,\n",
       " <td class=\"text-right\">1445</td>,\n",
       " <td class=\"text-right\">124.91</td>,\n",
       " <td class=\"text-right\">0</td>,\n",
       " <td class=\"text-right\">0</td>,\n",
       " <td class=\"text-right\">13</td>,\n",
       " <td class=\"text-right\">182</td>,\n",
       " <td class=\"text-right\">41</td>,\n",
       " <td class=\"cb-plyr-tbody text-right\">63</td>,\n",
       " <td class=\"text-right\">62</td>,\n",
       " <td class=\"text-right\">15</td>,\n",
       " <td class=\"text-right\">1885</td>,\n",
       " <td class=\"text-right\">89</td>,\n",
       " <td class=\"text-right\">40.11</td>,\n",
       " <td class=\"text-right\">1436</td>,\n",
       " <td class=\"text-right\">131.27</td>,\n",
       " <td class=\"text-right\">0</td>,\n",
       " <td class=\"text-right\">0</td>,\n",
       " <td class=\"text-right\">17</td>,\n",
       " <td class=\"text-right\">165</td>,\n",
       " <td class=\"text-right\">56</td>,\n",
       " <td class=\"cb-plyr-tbody text-right\">85</td>,\n",
       " <td class=\"text-right\">67</td>,\n",
       " <td class=\"text-right\">2151</td>,\n",
       " <td class=\"text-right\">1207</td>,\n",
       " <td class=\"text-right\">30</td>,\n",
       " <td class=\"text-right\">4/44</td>,\n",
       " <td class=\"text-right\">4/44</td>,\n",
       " <td class=\"text-right\">3.37</td>,\n",
       " <td class=\"text-right\">40.23</td>,\n",
       " <td class=\"text-right\">71.7</td>,\n",
       " <td class=\"text-right\">0</td>,\n",
       " <td class=\"text-right\">0</td>,\n",
       " <td class=\"cb-plyr-tbody text-right\">151</td>,\n",
       " <td class=\"text-right\">65</td>,\n",
       " <td class=\"text-right\">1467</td>,\n",
       " <td class=\"text-right\">1310</td>,\n",
       " <td class=\"text-right\">37</td>,\n",
       " <td class=\"text-right\">4/22</td>,\n",
       " <td class=\"text-right\">4/22</td>,\n",
       " <td class=\"text-right\">5.36</td>,\n",
       " <td class=\"text-right\">35.41</td>,\n",
       " <td class=\"text-right\">39.65</td>,\n",
       " <td class=\"text-right\">0</td>,\n",
       " <td class=\"text-right\">0</td>,\n",
       " <td class=\"cb-plyr-tbody text-right\">67</td>,\n",
       " <td class=\"text-right\">12</td>,\n",
       " <td class=\"text-right\">118</td>,\n",
       " <td class=\"text-right\">164</td>,\n",
       " <td class=\"text-right\">6</td>,\n",
       " <td class=\"text-right\">2/16</td>,\n",
       " <td class=\"text-right\">2/16</td>,\n",
       " <td class=\"text-right\">8.34</td>,\n",
       " <td class=\"text-right\">27.33</td>,\n",
       " <td class=\"text-right\">19.67</td>,\n",
       " <td class=\"text-right\">0</td>,\n",
       " <td class=\"text-right\">0</td>,\n",
       " <td class=\"cb-plyr-tbody text-right\">63</td>,\n",
       " <td class=\"text-right\">2</td>,\n",
       " <td class=\"text-right\">18</td>,\n",
       " <td class=\"text-right\">31</td>,\n",
       " <td class=\"text-right\">0</td>,\n",
       " <td class=\"text-right\">0/7</td>,\n",
       " <td class=\"text-right\">0/7</td>,\n",
       " <td class=\"text-right\">10.33</td>,\n",
       " <td class=\"text-right\">0.0</td>,\n",
       " <td class=\"text-right\">0.0</td>,\n",
       " <td class=\"text-right\">0</td>,\n",
       " <td class=\"text-right\">0</td>]"
      ]
     },
     "execution_count": 318,
     "metadata": {},
     "output_type": "execute_result"
    }
   ],
   "source": [
    "numtags"
   ]
  },
  {
   "cell_type": "code",
   "execution_count": 319,
   "id": "fc49c3ec",
   "metadata": {},
   "outputs": [
    {
     "data": {
      "text/plain": [
       "<td class=\"text-right\">37</td>"
      ]
     },
     "execution_count": 319,
     "metadata": {},
     "output_type": "execute_result"
    }
   ],
   "source": [
    "numtags[68]"
   ]
  },
  {
   "cell_type": "code",
   "execution_count": 320,
   "id": "e0b246f8",
   "metadata": {},
   "outputs": [
    {
     "data": {
      "text/plain": [
       "<td class=\"text-right\">6174</td>"
      ]
     },
     "execution_count": 320,
     "metadata": {},
     "output_type": "execute_result"
    }
   ],
   "source": [
    "numtags[16]"
   ]
  },
  {
   "cell_type": "code",
   "execution_count": 321,
   "id": "94dd9eac",
   "metadata": {},
   "outputs": [
    {
     "data": {
      "text/plain": [
       "<td class=\"text-right\">6</td>"
      ]
     },
     "execution_count": 321,
     "metadata": {},
     "output_type": "execute_result"
    }
   ],
   "source": [
    "numtags[-20]"
   ]
  },
  {
   "cell_type": "code",
   "execution_count": 322,
   "id": "bd145f80",
   "metadata": {},
   "outputs": [],
   "source": [
    "runs=str(numtags[16])\n",
    "wickets=str(numtags[-20])"
   ]
  },
  {
   "cell_type": "code",
   "execution_count": 323,
   "id": "08d2a12d",
   "metadata": {},
   "outputs": [],
   "source": [
    "result = re.search('>(.*)<', runs)\n",
    "playerOdiRuns=result.group(1)\n",
    "result = re.search('>(.*)<', wickets)\n",
    "playerOdiWickets=result.group(1)"
   ]
  },
  {
   "cell_type": "code",
   "execution_count": 324,
   "id": "1ce4f3d3",
   "metadata": {},
   "outputs": [
    {
     "data": {
      "text/plain": [
       "'6'"
      ]
     },
     "execution_count": 324,
     "metadata": {},
     "output_type": "execute_result"
    }
   ],
   "source": [
    "playerOdiWickets"
   ]
  },
  {
   "cell_type": "code",
   "execution_count": 325,
   "id": "580b49ba",
   "metadata": {},
   "outputs": [
    {
     "data": {
      "text/plain": [
       "'6174'"
      ]
     },
     "execution_count": 325,
     "metadata": {},
     "output_type": "execute_result"
    }
   ],
   "source": [
    "playerOdiRuns"
   ]
  },
  {
   "cell_type": "code",
   "execution_count": 326,
   "id": "6b93f86e",
   "metadata": {},
   "outputs": [
    {
     "name": "stdout",
     "output_type": "stream",
     "text": [
      "Kane Williamson\n",
      "31\n",
      "Taurang\n",
      "Batsman\n",
      "Right Handed Bat\n",
      "Right-arm offbreak\n",
      "New Zealand, Gloucestershire, Yorkshire, Northern Knights, Sunrisers Hyderabad, New Zealand A, Barbados Royals, Edmonton Royals, Birmingham Phoenix, Team Williamson\n",
      "6\n",
      "6174\n"
     ]
    }
   ],
   "source": [
    "print(playerName)\n",
    "print(playerAge)\n",
    "print(playerBirthPlace)\n",
    "print(playerRole)\n",
    "print(playerBatStyle)\n",
    "print(playerBowlStyle)\n",
    "print(playerTeams)\n",
    "print(playerOdiWickets)\n",
    "print(playerOdiRuns)\n"
   ]
  },
  {
   "cell_type": "code",
   "execution_count": null,
   "id": "4ca65994",
   "metadata": {},
   "outputs": [],
   "source": []
  },
  {
   "cell_type": "code",
   "execution_count": null,
   "id": "030ba4b8",
   "metadata": {},
   "outputs": [],
   "source": []
  },
  {
   "cell_type": "code",
   "execution_count": null,
   "id": "7500ddc2",
   "metadata": {},
   "outputs": [],
   "source": []
  }
 ],
 "metadata": {
  "kernelspec": {
   "display_name": "Python 3 (ipykernel)",
   "language": "python",
   "name": "python3"
  },
  "language_info": {
   "codemirror_mode": {
    "name": "ipython",
    "version": 3
   },
   "file_extension": ".py",
   "mimetype": "text/x-python",
   "name": "python",
   "nbconvert_exporter": "python",
   "pygments_lexer": "ipython3",
   "version": "3.8.8"
  }
 },
 "nbformat": 4,
 "nbformat_minor": 5
}
